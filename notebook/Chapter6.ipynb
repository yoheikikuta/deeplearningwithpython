{
 "cells": [
  {
   "cell_type": "markdown",
   "metadata": {},
   "source": [
    "# Chapter 6: Deep Learning for text and sequences"
   ]
  },
  {
   "cell_type": "markdown",
   "metadata": {},
   "source": [
    "## 6.1 Working with text data"
   ]
  },
  {
   "cell_type": "code",
   "execution_count": 1,
   "metadata": {},
   "outputs": [
    {
     "name": "stderr",
     "output_type": "stream",
     "text": [
      "/usr/local/lib/python3.5/dist-packages/h5py/__init__.py:36: FutureWarning: Conversion of the second argument of issubdtype from `float` to `np.floating` is deprecated. In future, it will be treated as `np.float64 == np.dtype(float).type`.\n",
      "  from ._conv import register_converters as _register_converters\n",
      "Using TensorFlow backend.\n"
     ]
    },
    {
     "data": {
      "text/plain": [
       "'2.1.4'"
      ]
     },
     "execution_count": 1,
     "metadata": {},
     "output_type": "execute_result"
    }
   ],
   "source": [
    "import keras\n",
    "keras.__version__"
   ]
  },
  {
   "cell_type": "markdown",
   "metadata": {},
   "source": [
    "one-hot vector in word units."
   ]
  },
  {
   "cell_type": "code",
   "execution_count": 2,
   "metadata": {},
   "outputs": [],
   "source": [
    "import numpy as np\n",
    "\n",
    "samples = ['The cat sat on the mat.', 'The dog ate my homework.']\n",
    "\n",
    "token_index = {}\n",
    "for sample in samples:\n",
    "    for word in sample.split():\n",
    "        if word not in token_index:\n",
    "            token_index[word] = len(token_index) + 1\n",
    "\n",
    "max_length = 10\n",
    "\n",
    "results = np.zeros((len(samples), max_length, max(token_index.values()) + 1))\n",
    "for i, sample in enumerate(samples):\n",
    "    for j, word in list(enumerate(sample.split()))[:max_length]:\n",
    "        index = token_index.get(word)\n",
    "        results[i, j, index] = 1."
   ]
  },
  {
   "cell_type": "code",
   "execution_count": 3,
   "metadata": {},
   "outputs": [
    {
     "data": {
      "text/plain": [
       "array([[[0., 1., 0., 0., 0., 0., 0., 0., 0., 0., 0.],\n",
       "        [0., 0., 1., 0., 0., 0., 0., 0., 0., 0., 0.],\n",
       "        [0., 0., 0., 1., 0., 0., 0., 0., 0., 0., 0.],\n",
       "        [0., 0., 0., 0., 1., 0., 0., 0., 0., 0., 0.],\n",
       "        [0., 0., 0., 0., 0., 1., 0., 0., 0., 0., 0.],\n",
       "        [0., 0., 0., 0., 0., 0., 1., 0., 0., 0., 0.],\n",
       "        [0., 0., 0., 0., 0., 0., 0., 0., 0., 0., 0.],\n",
       "        [0., 0., 0., 0., 0., 0., 0., 0., 0., 0., 0.],\n",
       "        [0., 0., 0., 0., 0., 0., 0., 0., 0., 0., 0.],\n",
       "        [0., 0., 0., 0., 0., 0., 0., 0., 0., 0., 0.]],\n",
       "\n",
       "       [[0., 1., 0., 0., 0., 0., 0., 0., 0., 0., 0.],\n",
       "        [0., 0., 0., 0., 0., 0., 0., 1., 0., 0., 0.],\n",
       "        [0., 0., 0., 0., 0., 0., 0., 0., 1., 0., 0.],\n",
       "        [0., 0., 0., 0., 0., 0., 0., 0., 0., 1., 0.],\n",
       "        [0., 0., 0., 0., 0., 0., 0., 0., 0., 0., 1.],\n",
       "        [0., 0., 0., 0., 0., 0., 0., 0., 0., 0., 0.],\n",
       "        [0., 0., 0., 0., 0., 0., 0., 0., 0., 0., 0.],\n",
       "        [0., 0., 0., 0., 0., 0., 0., 0., 0., 0., 0.],\n",
       "        [0., 0., 0., 0., 0., 0., 0., 0., 0., 0., 0.],\n",
       "        [0., 0., 0., 0., 0., 0., 0., 0., 0., 0., 0.]]])"
      ]
     },
     "execution_count": 3,
     "metadata": {},
     "output_type": "execute_result"
    }
   ],
   "source": [
    "results"
   ]
  },
  {
   "cell_type": "markdown",
   "metadata": {},
   "source": [
    "one-hot vector in character units."
   ]
  },
  {
   "cell_type": "code",
   "execution_count": 4,
   "metadata": {},
   "outputs": [],
   "source": [
    "import string\n",
    "\n",
    "samples = ['The cat sat on the mat.', 'The dog ate my homework.']\n",
    "characters = string.printable  # All printable ASCII characters.\n",
    "token_index = dict(zip(characters, range(1, len(characters) + 1)))\n",
    "\n",
    "max_length = 50\n",
    "results = np.zeros((len(samples), max_length, max(token_index.values()) + 1))\n",
    "for i, sample in enumerate(samples):\n",
    "    for j, character in enumerate(sample[:max_length]):\n",
    "        index = token_index.get(character)\n",
    "        results[i, j, index] = 1."
   ]
  },
  {
   "cell_type": "code",
   "execution_count": 5,
   "metadata": {},
   "outputs": [
    {
     "data": {
      "text/plain": [
       "(2, 50, 101)"
      ]
     },
     "execution_count": 5,
     "metadata": {},
     "output_type": "execute_result"
    }
   ],
   "source": [
    "results.shape"
   ]
  },
  {
   "cell_type": "markdown",
   "metadata": {},
   "source": [
    "Use Tokenizer class in keras for tokenization."
   ]
  },
  {
   "cell_type": "code",
   "execution_count": 6,
   "metadata": {},
   "outputs": [
    {
     "name": "stdout",
     "output_type": "stream",
     "text": [
      "Found 9 unique tokens.\n"
     ]
    }
   ],
   "source": [
    "from keras.preprocessing.text import Tokenizer\n",
    "\n",
    "samples = ['The cat sat on the mat.', 'The dog ate my homework.']\n",
    "\n",
    "tokenizer = Tokenizer(num_words=1000)\n",
    "tokenizer.fit_on_texts(samples)\n",
    "\n",
    "sequences = tokenizer.texts_to_sequences(samples)\n",
    "\n",
    "one_hot_results = tokenizer.texts_to_matrix(samples, mode='binary')\n",
    "\n",
    "word_index = tokenizer.word_index\n",
    "\n",
    "print('Found %s unique tokens.' % len(word_index))"
   ]
  },
  {
   "cell_type": "code",
   "execution_count": 7,
   "metadata": {},
   "outputs": [
    {
     "data": {
      "text/plain": [
       "(2, 50, 101)"
      ]
     },
     "execution_count": 7,
     "metadata": {},
     "output_type": "execute_result"
    }
   ],
   "source": [
    "results.shape"
   ]
  },
  {
   "cell_type": "markdown",
   "metadata": {},
   "source": [
    "hashing one-hot encoding."
   ]
  },
  {
   "cell_type": "code",
   "execution_count": 8,
   "metadata": {},
   "outputs": [],
   "source": [
    "samples = ['The cat sat on the mat.', 'The dog ate my homework.']\n",
    "\n",
    "dimensionality = 1000\n",
    "max_length = 10\n",
    "\n",
    "results = np.zeros((len(samples), max_length, dimensionality))\n",
    "for i, sample in enumerate(samples):\n",
    "    for j, word in list(enumerate(sample.split()))[:max_length]:\n",
    "        index = abs(hash(word)) % dimensionality\n",
    "        results[i, j, index] = 1."
   ]
  },
  {
   "cell_type": "code",
   "execution_count": 9,
   "metadata": {},
   "outputs": [
    {
     "data": {
      "text/plain": [
       "(2, 10, 1000)"
      ]
     },
     "execution_count": 9,
     "metadata": {},
     "output_type": "execute_result"
    }
   ],
   "source": [
    "results.shape"
   ]
  },
  {
   "cell_type": "markdown",
   "metadata": {},
   "source": [
    "Embedding: train the whole layers including embedding layer."
   ]
  },
  {
   "cell_type": "code",
   "execution_count": 10,
   "metadata": {},
   "outputs": [],
   "source": [
    "from keras.layers import Embedding\n",
    "\n",
    "embedding_layer = Embedding(1000, 64)"
   ]
  },
  {
   "cell_type": "code",
   "execution_count": 11,
   "metadata": {},
   "outputs": [],
   "source": [
    "from keras.datasets import imdb\n",
    "from keras import preprocessing\n",
    "\n",
    "max_features = 10000\n",
    "maxlen = 20\n",
    "\n",
    "(x_train, y_train), (x_test, y_test) = imdb.load_data(num_words=max_features)\n",
    "\n",
    "x_train = preprocessing.sequence.pad_sequences(x_train, maxlen=maxlen)\n",
    "x_test = preprocessing.sequence.pad_sequences(x_test, maxlen=maxlen)"
   ]
  },
  {
   "cell_type": "code",
   "execution_count": 12,
   "metadata": {},
   "outputs": [
    {
     "name": "stdout",
     "output_type": "stream",
     "text": [
      "_________________________________________________________________\n",
      "Layer (type)                 Output Shape              Param #   \n",
      "=================================================================\n",
      "embedding_2 (Embedding)      (None, 20, 8)             80000     \n",
      "_________________________________________________________________\n",
      "flatten_1 (Flatten)          (None, 160)               0         \n",
      "_________________________________________________________________\n",
      "dense_1 (Dense)              (None, 1)                 161       \n",
      "=================================================================\n",
      "Total params: 80,161\n",
      "Trainable params: 80,161\n",
      "Non-trainable params: 0\n",
      "_________________________________________________________________\n",
      "Train on 20000 samples, validate on 5000 samples\n",
      "Epoch 1/10\n",
      "20000/20000 [==============================] - 2s 105us/step - loss: 0.6759 - acc: 0.6050 - val_loss: 0.6398 - val_acc: 0.6814\n",
      "Epoch 2/10\n",
      "20000/20000 [==============================] - 2s 78us/step - loss: 0.5657 - acc: 0.7427 - val_loss: 0.5467 - val_acc: 0.7206\n",
      "Epoch 3/10\n",
      "20000/20000 [==============================] - 2s 76us/step - loss: 0.4752 - acc: 0.7808 - val_loss: 0.5113 - val_acc: 0.7384\n",
      "Epoch 4/10\n",
      "20000/20000 [==============================] - 2s 86us/step - loss: 0.4263 - acc: 0.8077 - val_loss: 0.5008 - val_acc: 0.7452\n",
      "Epoch 5/10\n",
      "20000/20000 [==============================] - 2s 81us/step - loss: 0.3930 - acc: 0.8258 - val_loss: 0.4981 - val_acc: 0.7538\n",
      "Epoch 6/10\n",
      "20000/20000 [==============================] - 2s 82us/step - loss: 0.3668 - acc: 0.8395 - val_loss: 0.5014 - val_acc: 0.7530\n",
      "Epoch 7/10\n",
      "20000/20000 [==============================] - 2s 77us/step - loss: 0.3435 - acc: 0.8533 - val_loss: 0.5052 - val_acc: 0.7520\n",
      "Epoch 8/10\n",
      "20000/20000 [==============================] - 2s 76us/step - loss: 0.3223 - acc: 0.8657 - val_loss: 0.5132 - val_acc: 0.7486\n",
      "Epoch 9/10\n",
      "20000/20000 [==============================] - 2s 76us/step - loss: 0.3022 - acc: 0.8766 - val_loss: 0.5213 - val_acc: 0.7490\n",
      "Epoch 10/10\n",
      "20000/20000 [==============================] - 2s 76us/step - loss: 0.2839 - acc: 0.8860 - val_loss: 0.5303 - val_acc: 0.7466\n"
     ]
    }
   ],
   "source": [
    "from keras.models import Sequential\n",
    "from keras.layers import Flatten, Dense\n",
    "\n",
    "model = Sequential()\n",
    "model.add(Embedding(10000, 8, input_length=maxlen))\n",
    "model.add(Flatten())\n",
    "\n",
    "model.add(Dense(1, activation='sigmoid'))\n",
    "model.compile(optimizer='rmsprop', loss='binary_crossentropy', metrics=['acc'])\n",
    "model.summary()\n",
    "\n",
    "history = model.fit(x_train, y_train,\n",
    "                    epochs=10,\n",
    "                    batch_size=32,\n",
    "                    validation_split=0.2)"
   ]
  },
  {
   "cell_type": "markdown",
   "metadata": {},
   "source": [
    "Use pre-trained embeddings."
   ]
  },
  {
   "cell_type": "code",
   "execution_count": 13,
   "metadata": {},
   "outputs": [
    {
     "name": "stdout",
     "output_type": "stream",
     "text": [
      "Data already exists.\n"
     ]
    }
   ],
   "source": [
    "import os\n",
    "\n",
    "imdb_data = \"../data/aclImdb_v1.tar.gz\"\n",
    "\n",
    "if not os.path.exists(imdb_data):\n",
    "    !wget http://ai.stanford.edu/~amaas/data/sentiment/aclImdb_v1.tar.gz -P ../data/\n",
    "    !tar -zxvf ../data/aclImdb_v1.tar.gz -C ../data/\n",
    "else:\n",
    "    print(\"Data already exists.\")"
   ]
  },
  {
   "cell_type": "code",
   "execution_count": 14,
   "metadata": {},
   "outputs": [],
   "source": [
    "imdb_dir = '../data/aclImdb'\n",
    "train_dir = os.path.join(imdb_dir, 'train')\n",
    "\n",
    "labels = []\n",
    "texts = []\n",
    "\n",
    "for label_type in ['neg', 'pos']:\n",
    "    dir_name = os.path.join(train_dir, label_type)\n",
    "    for fname in os.listdir(dir_name):\n",
    "        if fname[-4:] == '.txt':\n",
    "            f = open(os.path.join(dir_name, fname))\n",
    "            texts.append(f.read())\n",
    "            f.close()\n",
    "            if label_type == 'neg':\n",
    "                labels.append(0)\n",
    "            else:\n",
    "                labels.append(1)"
   ]
  },
  {
   "cell_type": "code",
   "execution_count": 15,
   "metadata": {},
   "outputs": [
    {
     "name": "stdout",
     "output_type": "stream",
     "text": [
      "Found 88582 unique tokens.\n",
      "Shape of data tensor: (25000, 100)\n",
      "Shape of label tensor: (25000,)\n"
     ]
    }
   ],
   "source": [
    "from keras.preprocessing.text import Tokenizer\n",
    "from keras.preprocessing.sequence import pad_sequences\n",
    "import numpy as np\n",
    "\n",
    "maxlen = 100\n",
    "training_samples = 200\n",
    "validation_samples = 10000\n",
    "max_words = 10000\n",
    "\n",
    "tokenizer = Tokenizer(num_words=max_words)\n",
    "tokenizer.fit_on_texts(texts)\n",
    "sequences = tokenizer.texts_to_sequences(texts)\n",
    "\n",
    "word_index = tokenizer.word_index\n",
    "print('Found %s unique tokens.' % len(word_index))\n",
    "\n",
    "data = pad_sequences(sequences, maxlen=maxlen)\n",
    "\n",
    "labels = np.asarray(labels)\n",
    "print('Shape of data tensor:', data.shape)\n",
    "print('Shape of label tensor:', labels.shape)\n",
    "\n",
    "indices = np.arange(data.shape[0])\n",
    "np.random.shuffle(indices)\n",
    "data = data[indices]\n",
    "labels = labels[indices]\n",
    "\n",
    "x_train = data[:training_samples]\n",
    "y_train = labels[:training_samples]\n",
    "x_val = data[training_samples: training_samples + validation_samples]\n",
    "y_val = labels[training_samples: training_samples + validation_samples]"
   ]
  },
  {
   "cell_type": "markdown",
   "metadata": {},
   "source": [
    "Download a pre-trained embedding."
   ]
  },
  {
   "cell_type": "code",
   "execution_count": 16,
   "metadata": {},
   "outputs": [
    {
     "name": "stdout",
     "output_type": "stream",
     "text": [
      "--2018-03-26 16:15:38--  http://nlp.stanford.edu/data/glove.6B.zip\n",
      "Resolving nlp.stanford.edu (nlp.stanford.edu)... 171.64.67.140\n",
      "Connecting to nlp.stanford.edu (nlp.stanford.edu)|171.64.67.140|:80... connected.\n",
      "HTTP request sent, awaiting response... 302 Found\n",
      "Location: https://nlp.stanford.edu/data/glove.6B.zip [following]\n",
      "--2018-03-26 16:15:39--  https://nlp.stanford.edu/data/glove.6B.zip\n",
      "Connecting to nlp.stanford.edu (nlp.stanford.edu)|171.64.67.140|:443... connected.\n",
      "HTTP request sent, awaiting response... 200 OK\n",
      "Length: 862182613 (822M) [application/zip]\n",
      "Saving to: ‘../data/glove.6B.zip’\n",
      "\n",
      "glove.6B.zip        100%[===================>] 822.24M  24.7MB/s    in 54s     \n",
      "\n",
      "2018-03-26 16:16:33 (15.3 MB/s) - ‘../data/glove.6B.zip’ saved [862182613/862182613]\n",
      "\n",
      "Archive:  ../data/glove.6B.zip\n",
      "  inflating: ../data/glove.6B.50d.txt  \n",
      "  inflating: ../data/glove.6B.100d.txt  \n",
      "  inflating: ../data/glove.6B.200d.txt  \n",
      "  inflating: ../data/glove.6B.300d.txt  \n"
     ]
    }
   ],
   "source": [
    "glove6B = \"../data/glove.6B.zip\"\n",
    "\n",
    "if not os.path.exists(glove6B):\n",
    "    !wget http://nlp.stanford.edu/data/glove.6B.zip -P ../data/\n",
    "    !unzip {glove6B} -d ../data/\n",
    "else:\n",
    "    print(\"Data already exists.\")"
   ]
  },
  {
   "cell_type": "code",
   "execution_count": 17,
   "metadata": {},
   "outputs": [
    {
     "name": "stdout",
     "output_type": "stream",
     "text": [
      "Found 400000 word vectors.\n"
     ]
    }
   ],
   "source": [
    "glove_dir = '../data/'\n",
    "\n",
    "embeddings_index = {}\n",
    "f = open(os.path.join(glove_dir, 'glove.6B.100d.txt'))\n",
    "for line in f:\n",
    "    values = line.split()\n",
    "    word = values[0]\n",
    "    coefs = np.asarray(values[1:], dtype='float32')\n",
    "    embeddings_index[word] = coefs\n",
    "f.close()\n",
    "\n",
    "print('Found %s word vectors.' % len(embeddings_index))"
   ]
  },
  {
   "cell_type": "code",
   "execution_count": 18,
   "metadata": {},
   "outputs": [],
   "source": [
    "embedding_dim = 100\n",
    "\n",
    "embedding_matrix = np.zeros((max_words, embedding_dim))\n",
    "for word, i in word_index.items():\n",
    "    embedding_vector = embeddings_index.get(word)\n",
    "    if i < max_words:\n",
    "        if embedding_vector is not None:\n",
    "            embedding_matrix[i] = embedding_vector"
   ]
  },
  {
   "cell_type": "markdown",
   "metadata": {},
   "source": [
    "Define a model."
   ]
  },
  {
   "cell_type": "code",
   "execution_count": 19,
   "metadata": {},
   "outputs": [
    {
     "name": "stdout",
     "output_type": "stream",
     "text": [
      "_________________________________________________________________\n",
      "Layer (type)                 Output Shape              Param #   \n",
      "=================================================================\n",
      "embedding_3 (Embedding)      (None, 100, 100)          1000000   \n",
      "_________________________________________________________________\n",
      "flatten_2 (Flatten)          (None, 10000)             0         \n",
      "_________________________________________________________________\n",
      "dense_2 (Dense)              (None, 32)                320032    \n",
      "_________________________________________________________________\n",
      "dense_3 (Dense)              (None, 1)                 33        \n",
      "=================================================================\n",
      "Total params: 1,320,065\n",
      "Trainable params: 1,320,065\n",
      "Non-trainable params: 0\n",
      "_________________________________________________________________\n"
     ]
    }
   ],
   "source": [
    "from keras.models import Sequential\n",
    "from keras.layers import Embedding, Flatten, Dense\n",
    "\n",
    "model = Sequential()\n",
    "model.add(Embedding(max_words, embedding_dim, input_length=maxlen))\n",
    "model.add(Flatten())\n",
    "model.add(Dense(32, activation='relu'))\n",
    "model.add(Dense(1, activation='sigmoid'))\n",
    "model.summary()"
   ]
  },
  {
   "cell_type": "markdown",
   "metadata": {},
   "source": [
    "Load the pre-trained weight."
   ]
  },
  {
   "cell_type": "code",
   "execution_count": null,
   "metadata": {},
   "outputs": [],
   "source": [
    "model.layers[0].set_weights([embedding_matrix])\n",
    "model.layers[0].trainable = False"
   ]
  },
  {
   "cell_type": "markdown",
   "metadata": {},
   "source": [
    "Training."
   ]
  },
  {
   "cell_type": "code",
   "execution_count": 21,
   "metadata": {},
   "outputs": [
    {
     "name": "stdout",
     "output_type": "stream",
     "text": [
      "Train on 200 samples, validate on 10000 samples\n",
      "Epoch 1/10\n",
      "200/200 [==============================] - 1s 3ms/step - loss: 1.7600 - acc: 0.5100 - val_loss: 0.7911 - val_acc: 0.5135\n",
      "Epoch 2/10\n",
      "200/200 [==============================] - 0s 2ms/step - loss: 0.5356 - acc: 0.7050 - val_loss: 0.6889 - val_acc: 0.5612\n",
      "Epoch 3/10\n",
      "200/200 [==============================] - 0s 2ms/step - loss: 0.4954 - acc: 0.7950 - val_loss: 0.6887 - val_acc: 0.5642\n",
      "Epoch 4/10\n",
      "200/200 [==============================] - 0s 2ms/step - loss: 0.2627 - acc: 0.9450 - val_loss: 0.7701 - val_acc: 0.5440\n",
      "Epoch 5/10\n",
      "200/200 [==============================] - 0s 2ms/step - loss: 0.2943 - acc: 0.8650 - val_loss: 0.7350 - val_acc: 0.5538\n",
      "Epoch 6/10\n",
      "200/200 [==============================] - 0s 2ms/step - loss: 0.1869 - acc: 0.9550 - val_loss: 0.6863 - val_acc: 0.5736\n",
      "Epoch 7/10\n",
      "200/200 [==============================] - 0s 2ms/step - loss: 0.1066 - acc: 1.0000 - val_loss: 0.9500 - val_acc: 0.5197\n",
      "Epoch 8/10\n",
      "200/200 [==============================] - 0s 2ms/step - loss: 0.0791 - acc: 0.9900 - val_loss: 0.9963 - val_acc: 0.5330\n",
      "Epoch 9/10\n",
      "200/200 [==============================] - 0s 2ms/step - loss: 0.0500 - acc: 1.0000 - val_loss: 0.8045 - val_acc: 0.5686\n",
      "Epoch 10/10\n",
      "200/200 [==============================] - 0s 2ms/step - loss: 0.0258 - acc: 1.0000 - val_loss: 1.1748 - val_acc: 0.5271\n"
     ]
    }
   ],
   "source": [
    "model.compile(optimizer='rmsprop', loss='binary_crossentropy', metrics=['acc'])\n",
    "\n",
    "history = model.fit(x_train, y_train,\n",
    "                    epochs=10,\n",
    "                    batch_size=32,\n",
    "                    validation_data=(x_val, y_val))\n",
    "\n",
    "model.save_weights('../model/pre_trained_glove_model.h5')"
   ]
  },
  {
   "cell_type": "code",
   "execution_count": 22,
   "metadata": {},
   "outputs": [
    {
     "data": {
      "image/png": "[encoded data removed]",
      "text/plain": [
       "<matplotlib.figure.Figure at 0x7f5cf4b1a320>"
      ]
     },
     "metadata": {},
     "output_type": "display_data"
    },
    {
     "data": {
      "image/png": "[encoded data removed]",
      "text/plain": [
       "<matplotlib.figure.Figure at 0x7f5ce7213828>"
      ]
     },
     "metadata": {},
     "output_type": "display_data"
    }
   ],
   "source": [
    "%matplotlib inline\n",
    "\n",
    "import matplotlib.pyplot as plt\n",
    "\n",
    "acc = history.history['acc']\n",
    "val_acc = history.history['val_acc']\n",
    "loss = history.history['loss']\n",
    "val_loss = history.history['val_loss']\n",
    "\n",
    "epochs = range(1, len(acc) + 1)\n",
    "\n",
    "plt.plot(epochs, acc, 'bo', label='Training acc')\n",
    "plt.plot(epochs, val_acc, 'b', label='Validation acc')\n",
    "plt.title('Training and validation accuracy')\n",
    "plt.legend()\n",
    "\n",
    "plt.figure()\n",
    "\n",
    "plt.plot(epochs, loss, 'bo', label='Training loss')\n",
    "plt.plot(epochs, val_loss, 'b', label='Validation loss')\n",
    "plt.title('Training and validation loss')\n",
    "plt.legend()\n",
    "\n",
    "plt.show()"
   ]
  },
  {
   "cell_type": "markdown",
   "metadata": {},
   "source": [
    "Train the whole layers."
   ]
  },
  {
   "cell_type": "code",
   "execution_count": 23,
   "metadata": {},
   "outputs": [
    {
     "name": "stdout",
     "output_type": "stream",
     "text": [
      "_________________________________________________________________\n",
      "Layer (type)                 Output Shape              Param #   \n",
      "=================================================================\n",
      "embedding_4 (Embedding)      (None, 100, 100)          1000000   \n",
      "_________________________________________________________________\n",
      "flatten_3 (Flatten)          (None, 10000)             0         \n",
      "_________________________________________________________________\n",
      "dense_4 (Dense)              (None, 32)                320032    \n",
      "_________________________________________________________________\n",
      "dense_5 (Dense)              (None, 1)                 33        \n",
      "=================================================================\n",
      "Total params: 1,320,065\n",
      "Trainable params: 1,320,065\n",
      "Non-trainable params: 0\n",
      "_________________________________________________________________\n",
      "Train on 200 samples, validate on 10000 samples\n",
      "Epoch 1/10\n",
      "200/200 [==============================] - 1s 4ms/step - loss: 0.6884 - acc: 0.5000 - val_loss: 0.6989 - val_acc: 0.5199\n",
      "Epoch 2/10\n",
      "200/200 [==============================] - 0s 2ms/step - loss: 0.4848 - acc: 0.9650 - val_loss: 0.7140 - val_acc: 0.5132\n",
      "Epoch 3/10\n",
      "200/200 [==============================] - 0s 2ms/step - loss: 0.2750 - acc: 0.9850 - val_loss: 0.7111 - val_acc: 0.5247\n",
      "Epoch 4/10\n",
      "200/200 [==============================] - 0s 2ms/step - loss: 0.1193 - acc: 0.9950 - val_loss: 0.7104 - val_acc: 0.5242\n",
      "Epoch 5/10\n",
      "200/200 [==============================] - 0s 2ms/step - loss: 0.0542 - acc: 1.0000 - val_loss: 0.7246 - val_acc: 0.5265\n",
      "Epoch 6/10\n",
      "200/200 [==============================] - 0s 2ms/step - loss: 0.0276 - acc: 1.0000 - val_loss: 0.7318 - val_acc: 0.5267\n",
      "Epoch 7/10\n",
      "200/200 [==============================] - 0s 2ms/step - loss: 0.0152 - acc: 1.0000 - val_loss: 0.7293 - val_acc: 0.5293\n",
      "Epoch 8/10\n",
      "200/200 [==============================] - 0s 2ms/step - loss: 0.0086 - acc: 1.0000 - val_loss: 0.7486 - val_acc: 0.5286\n",
      "Epoch 9/10\n",
      "200/200 [==============================] - 0s 2ms/step - loss: 0.0053 - acc: 1.0000 - val_loss: 0.7398 - val_acc: 0.5290\n",
      "Epoch 10/10\n",
      "200/200 [==============================] - 0s 2ms/step - loss: 0.0032 - acc: 1.0000 - val_loss: 0.7582 - val_acc: 0.5285\n"
     ]
    }
   ],
   "source": [
    "from keras.models import Sequential\n",
    "from keras.layers import Embedding, Flatten, Dense\n",
    "\n",
    "model = Sequential()\n",
    "model.add(Embedding(max_words, embedding_dim, input_length=maxlen))\n",
    "model.add(Flatten())\n",
    "model.add(Dense(32, activation='relu'))\n",
    "model.add(Dense(1, activation='sigmoid'))\n",
    "model.summary()\n",
    "\n",
    "model.compile(optimizer='rmsprop', loss='binary_crossentropy', metrics=['acc'])\n",
    "\n",
    "history = model.fit(x_train, y_train,\n",
    "                    epochs=10,\n",
    "                    batch_size=32,\n",
    "                    validation_data=(x_val, y_val))"
   ]
  },
  {
   "cell_type": "code",
   "execution_count": 24,
   "metadata": {},
   "outputs": [
    {
     "data": {
      "image/png": "[encoded data removed]",
      "text/plain": [
       "<matplotlib.figure.Figure at 0x7f5ce4e7c400>"
      ]
     },
     "metadata": {},
     "output_type": "display_data"
    },
    {
     "data": {
      "image/png": "[encoded data removed]",
      "text/plain": [
       "<matplotlib.figure.Figure at 0x7f5ce4e2ee10>"
      ]
     },
     "metadata": {},
     "output_type": "display_data"
    }
   ],
   "source": [
    "acc = history.history['acc']\n",
    "val_acc = history.history['val_acc']\n",
    "loss = history.history['loss']\n",
    "val_loss = history.history['val_loss']\n",
    "\n",
    "epochs = range(1, len(acc) + 1)\n",
    "\n",
    "plt.plot(epochs, acc, 'bo', label='Training acc')\n",
    "plt.plot(epochs, val_acc, 'b', label='Validation acc')\n",
    "plt.title('Training and validation accuracy')\n",
    "plt.legend()\n",
    "\n",
    "plt.figure()\n",
    "\n",
    "plt.plot(epochs, loss, 'bo', label='Training loss')\n",
    "plt.plot(epochs, val_loss, 'b', label='Validation loss')\n",
    "plt.title('Training and validation loss')\n",
    "plt.legend()\n",
    "\n",
    "plt.show()"
   ]
  },
  {
   "cell_type": "markdown",
   "metadata": {},
   "source": [
    "Evaluate the trained model."
   ]
  },
  {
   "cell_type": "code",
   "execution_count": 25,
   "metadata": {},
   "outputs": [],
   "source": [
    "test_dir = os.path.join(imdb_dir, 'test')\n",
    "\n",
    "labels = []\n",
    "texts = []\n",
    "\n",
    "for label_type in ['neg', 'pos']:\n",
    "    dir_name = os.path.join(test_dir, label_type)\n",
    "    for fname in sorted(os.listdir(dir_name)):\n",
    "        if fname[-4:] == '.txt':\n",
    "            f = open(os.path.join(dir_name, fname))\n",
    "            texts.append(f.read())\n",
    "            f.close()\n",
    "            if label_type == 'neg':\n",
    "                labels.append(0)\n",
    "            else:\n",
    "                labels.append(1)\n",
    "\n",
    "sequences = tokenizer.texts_to_sequences(texts)\n",
    "x_test = pad_sequences(sequences, maxlen=maxlen)\n",
    "y_test = np.asarray(labels)"
   ]
  },
  {
   "cell_type": "code",
   "execution_count": 26,
   "metadata": {},
   "outputs": [
    {
     "name": "stdout",
     "output_type": "stream",
     "text": [
      "25000/25000 [==============================] - 1s 43us/step\n"
     ]
    },
    {
     "data": {
      "text/plain": [
       "[1.1946243684959412, 0.52188]"
      ]
     },
     "execution_count": 26,
     "metadata": {},
     "output_type": "execute_result"
    }
   ],
   "source": [
    "model.load_weights('../model/pre_trained_glove_model.h5')\n",
    "model.evaluate(x_test, y_test)"
   ]
  },
  {
   "cell_type": "markdown",
   "metadata": {},
   "source": [
    "[loss, accuracy]"
   ]
  },
  {
   "cell_type": "markdown",
   "metadata": {},
   "source": [
    "## 6.2 Understanding recurrent neural networks"
   ]
  },
  {
   "cell_type": "code",
   "execution_count": 1,
   "metadata": {},
   "outputs": [
    {
     "name": "stderr",
     "output_type": "stream",
     "text": [
      "/usr/local/lib/python3.5/dist-packages/h5py/__init__.py:36: FutureWarning: Conversion of the second argument of issubdtype from `float` to `np.floating` is deprecated. In future, it will be treated as `np.float64 == np.dtype(float).type`.\n",
      "  from ._conv import register_converters as _register_converters\n",
      "Using TensorFlow backend.\n"
     ]
    }
   ],
   "source": [
    "import keras"
   ]
  },
  {
   "cell_type": "code",
   "execution_count": 2,
   "metadata": {},
   "outputs": [],
   "source": [
    "from keras.layers import SimpleRNN"
   ]
  },
  {
   "cell_type": "markdown",
   "metadata": {},
   "source": [
    "Modling using simpleRNN."
   ]
  },
  {
   "cell_type": "code",
   "execution_count": 3,
   "metadata": {},
   "outputs": [
    {
     "name": "stdout",
     "output_type": "stream",
     "text": [
      "_________________________________________________________________\n",
      "Layer (type)                 Output Shape              Param #   \n",
      "=================================================================\n",
      "embedding_1 (Embedding)      (None, None, 32)          320000    \n",
      "_________________________________________________________________\n",
      "simple_rnn_1 (SimpleRNN)     (None, 32)                2080      \n",
      "=================================================================\n",
      "Total params: 322,080\n",
      "Trainable params: 322,080\n",
      "Non-trainable params: 0\n",
      "_________________________________________________________________\n"
     ]
    }
   ],
   "source": [
    "from keras.models import Sequential\n",
    "from keras.layers import Embedding, SimpleRNN\n",
    "\n",
    "model = Sequential()\n",
    "model.add(Embedding(10000, 32))\n",
    "model.add(SimpleRNN(32))\n",
    "model.summary()"
   ]
  },
  {
   "cell_type": "code",
   "execution_count": 4,
   "metadata": {},
   "outputs": [
    {
     "name": "stdout",
     "output_type": "stream",
     "text": [
      "_________________________________________________________________\n",
      "Layer (type)                 Output Shape              Param #   \n",
      "=================================================================\n",
      "embedding_2 (Embedding)      (None, None, 32)          320000    \n",
      "_________________________________________________________________\n",
      "simple_rnn_2 (SimpleRNN)     (None, None, 32)          2080      \n",
      "=================================================================\n",
      "Total params: 322,080\n",
      "Trainable params: 322,080\n",
      "Non-trainable params: 0\n",
      "_________________________________________________________________\n"
     ]
    }
   ],
   "source": [
    "model = Sequential()\n",
    "model.add(Embedding(10000, 32))\n",
    "model.add(SimpleRNN(32, return_sequences=True))\n",
    "model.summary()"
   ]
  },
  {
   "cell_type": "code",
   "execution_count": 5,
   "metadata": {},
   "outputs": [
    {
     "name": "stdout",
     "output_type": "stream",
     "text": [
      "_________________________________________________________________\n",
      "Layer (type)                 Output Shape              Param #   \n",
      "=================================================================\n",
      "embedding_3 (Embedding)      (None, None, 32)          320000    \n",
      "_________________________________________________________________\n",
      "simple_rnn_3 (SimpleRNN)     (None, None, 32)          2080      \n",
      "_________________________________________________________________\n",
      "simple_rnn_4 (SimpleRNN)     (None, None, 32)          2080      \n",
      "_________________________________________________________________\n",
      "simple_rnn_5 (SimpleRNN)     (None, None, 32)          2080      \n",
      "_________________________________________________________________\n",
      "simple_rnn_6 (SimpleRNN)     (None, 32)                2080      \n",
      "=================================================================\n",
      "Total params: 328,320\n",
      "Trainable params: 328,320\n",
      "Non-trainable params: 0\n",
      "_________________________________________________________________\n"
     ]
    }
   ],
   "source": [
    "model = Sequential()\n",
    "model.add(Embedding(10000, 32))\n",
    "model.add(SimpleRNN(32, return_sequences=True))\n",
    "model.add(SimpleRNN(32, return_sequences=True))\n",
    "model.add(SimpleRNN(32, return_sequences=True))\n",
    "model.add(SimpleRNN(32))  # This last layer only returns the last outputs.\n",
    "model.summary()"
   ]
  },
  {
   "cell_type": "code",
   "execution_count": 6,
   "metadata": {},
   "outputs": [
    {
     "name": "stdout",
     "output_type": "stream",
     "text": [
      "Loading data...\n",
      "25000 train sequences\n",
      "25000 test sequences\n",
      "Pad sequences (samples x time)\n",
      "input_train shape: (25000, 500)\n",
      "input_test shape: (25000, 500)\n"
     ]
    }
   ],
   "source": [
    "from keras.datasets import imdb\n",
    "from keras.preprocessing import sequence\n",
    "\n",
    "max_features = 10000  # number of words to consider as features\n",
    "maxlen = 500  # cut texts after this number of words (among top max_features most common words)\n",
    "batch_size = 32\n",
    "\n",
    "print('Loading data...')\n",
    "(input_train, y_train), (input_test, y_test) = imdb.load_data(num_words=max_features)\n",
    "print(len(input_train), 'train sequences')\n",
    "print(len(input_test), 'test sequences')\n",
    "\n",
    "print('Pad sequences (samples x time)')\n",
    "input_train = sequence.pad_sequences(input_train, maxlen=maxlen)\n",
    "input_test = sequence.pad_sequences(input_test, maxlen=maxlen)\n",
    "print('input_train shape:', input_train.shape)\n",
    "print('input_test shape:', input_test.shape)"
   ]
  },
  {
   "cell_type": "code",
   "execution_count": 7,
   "metadata": {},
   "outputs": [
    {
     "name": "stdout",
     "output_type": "stream",
     "text": [
      "Train on 20000 samples, validate on 5000 samples\n",
      "Epoch 1/10\n",
      "20000/20000 [==============================] - 21s 1ms/step - loss: 0.6443 - acc: 0.6126 - val_loss: 0.6023 - val_acc: 0.6612\n",
      "Epoch 2/10\n",
      "20000/20000 [==============================] - 17s 856us/step - loss: 0.4171 - acc: 0.8207 - val_loss: 0.4248 - val_acc: 0.8220\n",
      "Epoch 3/10\n",
      "20000/20000 [==============================] - 17s 866us/step - loss: 0.3067 - acc: 0.8773 - val_loss: 0.4584 - val_acc: 0.7856\n",
      "Epoch 4/10\n",
      "20000/20000 [==============================] - 17s 855us/step - loss: 0.2306 - acc: 0.9088 - val_loss: 0.4201 - val_acc: 0.8244\n",
      "Epoch 5/10\n",
      "20000/20000 [==============================] - 17s 850us/step - loss: 0.1668 - acc: 0.9360 - val_loss: 0.4560 - val_acc: 0.8074\n",
      "Epoch 6/10\n",
      "20000/20000 [==============================] - 17s 858us/step - loss: 0.1677 - acc: 0.9385 - val_loss: 0.4375 - val_acc: 0.8288\n",
      "Epoch 7/10\n",
      "20000/20000 [==============================] - 17s 850us/step - loss: 0.0815 - acc: 0.9738 - val_loss: 0.5100 - val_acc: 0.8124\n",
      "Epoch 8/10\n",
      "20000/20000 [==============================] - 17s 838us/step - loss: 0.0446 - acc: 0.9866 - val_loss: 0.6186 - val_acc: 0.7884\n",
      "Epoch 9/10\n",
      "20000/20000 [==============================] - 17s 831us/step - loss: 0.0273 - acc: 0.9924 - val_loss: 0.5749 - val_acc: 0.8458\n",
      "Epoch 10/10\n",
      "20000/20000 [==============================] - 18s 904us/step - loss: 0.0185 - acc: 0.9953 - val_loss: 0.6629 - val_acc: 0.8108\n"
     ]
    }
   ],
   "source": [
    "from keras.layers import Dense\n",
    "\n",
    "model = Sequential()\n",
    "model.add(Embedding(max_features, 32))\n",
    "model.add(SimpleRNN(32))\n",
    "model.add(Dense(1, activation='sigmoid'))\n",
    "\n",
    "model.compile(optimizer='rmsprop', loss='binary_crossentropy', metrics=['acc'])\n",
    "history = model.fit(input_train, y_train,\n",
    "                    epochs=10,\n",
    "                    batch_size=128,\n",
    "                    validation_split=0.2)"
   ]
  },
  {
   "cell_type": "code",
   "execution_count": 8,
   "metadata": {},
   "outputs": [
    {
     "data": {
      "image/png": "[encoded data removed]",
      "text/plain": [
       "<matplotlib.figure.Figure at 0x7fde06cfb390>"
      ]
     },
     "metadata": {},
     "output_type": "display_data"
    },
    {
     "data": {
      "image/png": "[encoded data removed]",
      "text/plain": [
       "<matplotlib.figure.Figure at 0x7fddf81f47f0>"
      ]
     },
     "metadata": {},
     "output_type": "display_data"
    }
   ],
   "source": [
    "%matplotlib inline\n",
    "\n",
    "import matplotlib.pyplot as plt\n",
    "\n",
    "acc = history.history['acc']\n",
    "val_acc = history.history['val_acc']\n",
    "loss = history.history['loss']\n",
    "val_loss = history.history['val_loss']\n",
    "\n",
    "epochs = range(len(acc))\n",
    "\n",
    "plt.plot(epochs, acc, 'bo', label='Training acc')\n",
    "plt.plot(epochs, val_acc, 'b', label='Validation acc')\n",
    "plt.title('Training and validation accuracy')\n",
    "plt.legend()\n",
    "\n",
    "plt.figure()\n",
    "\n",
    "plt.plot(epochs, loss, 'bo', label='Training loss')\n",
    "plt.plot(epochs, val_loss, 'b', label='Validation loss')\n",
    "plt.title('Training and validation loss')\n",
    "plt.legend()\n",
    "\n",
    "plt.show()"
   ]
  },
  {
   "cell_type": "markdown",
   "metadata": {},
   "source": [
    "Use LSTM."
   ]
  },
  {
   "cell_type": "code",
   "execution_count": 9,
   "metadata": {},
   "outputs": [
    {
     "name": "stdout",
     "output_type": "stream",
     "text": [
      "Train on 20000 samples, validate on 5000 samples\n",
      "Epoch 1/10\n",
      "20000/20000 [==============================] - 85s 4ms/step - loss: 0.5090 - acc: 0.7616 - val_loss: 0.3369 - val_acc: 0.8638\n",
      "Epoch 2/10\n",
      "20000/20000 [==============================] - 84s 4ms/step - loss: 0.2945 - acc: 0.8825 - val_loss: 0.3809 - val_acc: 0.8364\n",
      "Epoch 3/10\n",
      "20000/20000 [==============================] - 87s 4ms/step - loss: 0.2312 - acc: 0.9116 - val_loss: 0.2720 - val_acc: 0.8954\n",
      "Epoch 4/10\n",
      "20000/20000 [==============================] - 85s 4ms/step - loss: 0.1952 - acc: 0.9290 - val_loss: 0.4869 - val_acc: 0.8436\n",
      "Epoch 5/10\n",
      "20000/20000 [==============================] - 88s 4ms/step - loss: 0.1741 - acc: 0.9367 - val_loss: 0.3168 - val_acc: 0.8854\n",
      "Epoch 6/10\n",
      "20000/20000 [==============================] - 85s 4ms/step - loss: 0.1546 - acc: 0.9442 - val_loss: 0.2926 - val_acc: 0.8882\n",
      "Epoch 7/10\n",
      "20000/20000 [==============================] - 85s 4ms/step - loss: 0.1442 - acc: 0.9485 - val_loss: 0.3733 - val_acc: 0.8870\n",
      "Epoch 8/10\n",
      "20000/20000 [==============================] - 88s 4ms/step - loss: 0.1309 - acc: 0.9538 - val_loss: 0.3132 - val_acc: 0.8802\n",
      "Epoch 9/10\n",
      "20000/20000 [==============================] - 85s 4ms/step - loss: 0.1170 - acc: 0.9594 - val_loss: 0.3346 - val_acc: 0.8860\n",
      "Epoch 10/10\n",
      "20000/20000 [==============================] - 86s 4ms/step - loss: 0.1116 - acc: 0.9610 - val_loss: 0.5993 - val_acc: 0.8532\n"
     ]
    }
   ],
   "source": [
    "from keras.layers import LSTM\n",
    "\n",
    "model = Sequential()\n",
    "model.add(Embedding(max_features, 32))\n",
    "model.add(LSTM(32))\n",
    "model.add(Dense(1, activation='sigmoid'))\n",
    "\n",
    "model.compile(optimizer='rmsprop', loss='binary_crossentropy', metrics=['acc'])\n",
    "history = model.fit(input_train, y_train,\n",
    "                    epochs=10,\n",
    "                    batch_size=128,\n",
    "                    validation_split=0.2)"
   ]
  },
  {
   "cell_type": "code",
   "execution_count": 10,
   "metadata": {},
   "outputs": [
    {
     "data": {
      "image/png": "[encoded data removed]",
      "text/plain": [
       "<matplotlib.figure.Figure at 0x7fddc0ab3ac8>"
      ]
     },
     "metadata": {},
     "output_type": "display_data"
    },
    {
     "data": {
      "image/png": "[encoded data removed]",
      "text/plain": [
       "<matplotlib.figure.Figure at 0x7fddc0a54828>"
      ]
     },
     "metadata": {},
     "output_type": "display_data"
    }
   ],
   "source": [
    "acc = history.history['acc']\n",
    "val_acc = history.history['val_acc']\n",
    "loss = history.history['loss']\n",
    "val_loss = history.history['val_loss']\n",
    "\n",
    "epochs = range(len(acc))\n",
    "\n",
    "plt.plot(epochs, acc, 'bo', label='Training acc')\n",
    "plt.plot(epochs, val_acc, 'b', label='Validation acc')\n",
    "plt.title('Training and validation accuracy')\n",
    "plt.legend()\n",
    "\n",
    "plt.figure()\n",
    "\n",
    "plt.plot(epochs, loss, 'bo', label='Training loss')\n",
    "plt.plot(epochs, val_loss, 'b', label='Validation loss')\n",
    "plt.title('Training and validation loss')\n",
    "plt.legend()\n",
    "\n",
    "plt.show()"
   ]
  },
  {
   "cell_type": "markdown",
   "metadata": {},
   "source": [
    "## 6.3 Advanced usage of recurrent neural networks"
   ]
  },
  {
   "cell_type": "code",
   "execution_count": 11,
   "metadata": {},
   "outputs": [],
   "source": [
    "import keras"
   ]
  },
  {
   "cell_type": "markdown",
   "metadata": {},
   "source": [
    "Download a climate data."
   ]
  },
  {
   "cell_type": "code",
   "execution_count": 12,
   "metadata": {},
   "outputs": [
    {
     "name": "stdout",
     "output_type": "stream",
     "text": [
      "--2018-03-27 15:27:09--  https://s3.amazonaws.com/keras-datasets/jena_climate_2009_2016.csv.zip\n",
      "Resolving s3.amazonaws.com (s3.amazonaws.com)... 52.216.18.179\n",
      "Connecting to s3.amazonaws.com (s3.amazonaws.com)|52.216.18.179|:443... connected.\n",
      "HTTP request sent, awaiting response... 200 OK\n",
      "Length: 13568290 (13M) [application/zip]\n",
      "Saving to: ‘../data/jena_climate_2009_2016.csv.zip’\n",
      "\n",
      "jena_climate_2009_2 100%[===================>]  12.94M  2.45MB/s    in 11s     \n",
      "\n",
      "2018-03-27 15:27:21 (1.20 MB/s) - ‘../data/jena_climate_2009_2016.csv.zip’ saved [13568290/13568290]\n",
      "\n",
      "Archive:  ../data/jena_climate_2009_2016.csv.zip\n",
      "  inflating: ../data/jena_climate_2009_2016.csv  \n"
     ]
    }
   ],
   "source": [
    "!wget https://s3.amazonaws.com/keras-datasets/jena_climate_2009_2016.csv.zip -P ../data/\n",
    "!unzip ../data/jena_climate_2009_2016.csv.zip -d ../data/"
   ]
  },
  {
   "cell_type": "code",
   "execution_count": 13,
   "metadata": {},
   "outputs": [
    {
     "name": "stdout",
     "output_type": "stream",
     "text": [
      "['\"Date Time\"', '\"p (mbar)\"', '\"T (degC)\"', '\"Tpot (K)\"', '\"Tdew (degC)\"', '\"rh (%)\"', '\"VPmax (mbar)\"', '\"VPact (mbar)\"', '\"VPdef (mbar)\"', '\"sh (g/kg)\"', '\"H2OC (mmol/mol)\"', '\"rho (g/m**3)\"', '\"wv (m/s)\"', '\"max. wv (m/s)\"', '\"wd (deg)\"']\n",
      "420551\n"
     ]
    }
   ],
   "source": [
    "import os\n",
    "\n",
    "data_dir = '../data/'\n",
    "fname = os.path.join(data_dir, 'jena_climate_2009_2016.csv')\n",
    "\n",
    "f = open(fname)\n",
    "data = f.read()\n",
    "f.close()\n",
    "\n",
    "lines = data.split('\\n')\n",
    "header = lines[0].split(',')\n",
    "lines = lines[1:]\n",
    "\n",
    "print(header)\n",
    "print(len(lines))"
   ]
  },
  {
   "cell_type": "code",
   "execution_count": 14,
   "metadata": {},
   "outputs": [],
   "source": [
    "import numpy as np\n",
    "\n",
    "float_data = np.zeros((len(lines), len(header) - 1))\n",
    "for i, line in enumerate(lines):\n",
    "    values = [float(x) for x in line.split(',')[1:]]\n",
    "    float_data[i, :] = values"
   ]
  },
  {
   "cell_type": "code",
   "execution_count": 15,
   "metadata": {},
   "outputs": [
    {
     "data": {
      "image/png": "[encoded data removed]",
      "text/plain": [
       "<matplotlib.figure.Figure at 0x7fddf8182f28>"
      ]
     },
     "metadata": {},
     "output_type": "display_data"
    }
   ],
   "source": [
    "%matplotlib inline\n",
    "from matplotlib import pyplot as plt\n",
    "\n",
    "temp = float_data[:, 1]  # temperature (in degrees Celsius)\n",
    "plt.plot(range(len(temp)), temp)\n",
    "plt.show()"
   ]
  },
  {
   "cell_type": "code",
   "execution_count": 16,
   "metadata": {},
   "outputs": [
    {
     "data": {
      "image/png": "[encoded data removed]",
      "text/plain": [
       "<matplotlib.figure.Figure at 0x7fddc0a3b9b0>"
      ]
     },
     "metadata": {},
     "output_type": "display_data"
    }
   ],
   "source": [
    "plt.plot(range(1440), temp[:1440])\n",
    "plt.show()"
   ]
  },
  {
   "cell_type": "markdown",
   "metadata": {},
   "source": [
    "Data preprocessings."
   ]
  },
  {
   "cell_type": "code",
   "execution_count": 17,
   "metadata": {},
   "outputs": [],
   "source": [
    "mean = float_data[:200000].mean(axis=0)\n",
    "float_data -= mean\n",
    "std = float_data[:200000].std(axis=0)\n",
    "float_data /= std"
   ]
  },
  {
   "cell_type": "code",
   "execution_count": 18,
   "metadata": {},
   "outputs": [],
   "source": [
    "def generator(data, lookback, delay, min_index, max_index,\n",
    "              shuffle=False, batch_size=128, step=6):\n",
    "    if max_index is None:\n",
    "        max_index = len(data) - delay - 1\n",
    "    i = min_index + lookback\n",
    "    while 1:\n",
    "        if shuffle:\n",
    "            rows = np.random.randint(\n",
    "                min_index + lookback, max_index, size=batch_size)\n",
    "        else:\n",
    "            if i + batch_size >= max_index:\n",
    "                i = min_index + lookback\n",
    "            rows = np.arange(i, min(i + batch_size, max_index))\n",
    "            i += len(rows)\n",
    "\n",
    "        samples = np.zeros((len(rows),\n",
    "                           lookback // step,\n",
    "                           data.shape[-1]))\n",
    "        targets = np.zeros((len(rows),))\n",
    "        for j, row in enumerate(rows):\n",
    "            indices = range(rows[j] - lookback, rows[j], step)\n",
    "            samples[j] = data[indices]\n",
    "            targets[j] = data[rows[j] + delay][1]\n",
    "        yield samples, targets"
   ]
  },
  {
   "cell_type": "code",
   "execution_count": 19,
   "metadata": {},
   "outputs": [],
   "source": [
    "lookback = 1440\n",
    "step = 6\n",
    "delay = 144\n",
    "batch_size = 128\n",
    "\n",
    "train_gen = generator(float_data,\n",
    "                      lookback=lookback,\n",
    "                      delay=delay,\n",
    "                      min_index=0,\n",
    "                      max_index=200000,\n",
    "                      shuffle=True,\n",
    "                      step=step, \n",
    "                      batch_size=batch_size)\n",
    "val_gen = generator(float_data,\n",
    "                    lookback=lookback,\n",
    "                    delay=delay,\n",
    "                    min_index=200001,\n",
    "                    max_index=300000,\n",
    "                    step=step,\n",
    "                    batch_size=batch_size)\n",
    "test_gen = generator(float_data,\n",
    "                     lookback=lookback,\n",
    "                     delay=delay,\n",
    "                     min_index=300001,\n",
    "                     max_index=None,\n",
    "                     step=step,\n",
    "                     batch_size=batch_size)\n",
    "\n",
    "val_steps = (300000 - 200001 - lookback) // batch_size\n",
    "\n",
    "test_steps = (len(float_data) - 300001 - lookback) // batch_size"
   ]
  },
  {
   "cell_type": "markdown",
   "metadata": {},
   "source": [
    "A common sense, non-machine learning baseline."
   ]
  },
  {
   "cell_type": "markdown",
   "metadata": {},
   "source": [
    "np.mean(np.abs(preds - targets))"
   ]
  },
  {
   "cell_type": "code",
   "execution_count": 22,
   "metadata": {},
   "outputs": [
    {
     "name": "stdout",
     "output_type": "stream",
     "text": [
      "0.2897359729905486\n"
     ]
    }
   ],
   "source": [
    "def evaluate_naive_method():\n",
    "    batch_maes = []\n",
    "    for step in range(val_steps):\n",
    "        samples, targets = next(val_gen)\n",
    "        preds = samples[:, -1, 1]\n",
    "        mae = np.mean(np.abs(preds - targets))\n",
    "        batch_maes.append(mae)\n",
    "    print(np.mean(batch_maes))\n",
    "    \n",
    "evaluate_naive_method()"
   ]
  },
  {
   "cell_type": "markdown",
   "metadata": {},
   "source": [
    "A basic machine learning approach."
   ]
  },
  {
   "cell_type": "code",
   "execution_count": 23,
   "metadata": {},
   "outputs": [
    {
     "name": "stdout",
     "output_type": "stream",
     "text": [
      "Epoch 1/20\n",
      "500/500 [==============================] - 8s 16ms/step - loss: 1.4844 - val_loss: 0.8101\n",
      "Epoch 2/20\n",
      "500/500 [==============================] - 8s 15ms/step - loss: 0.5247 - val_loss: 0.3103\n",
      "Epoch 3/20\n",
      "500/500 [==============================] - 8s 15ms/step - loss: 0.3145 - val_loss: 0.3044\n",
      "Epoch 4/20\n",
      "500/500 [==============================] - 8s 15ms/step - loss: 0.2764 - val_loss: 0.3128\n",
      "Epoch 5/20\n",
      "500/500 [==============================] - 8s 15ms/step - loss: 0.2598 - val_loss: 0.3345\n",
      "Epoch 6/20\n",
      "500/500 [==============================] - 8s 15ms/step - loss: 0.2484 - val_loss: 0.3149\n",
      "Epoch 7/20\n",
      "500/500 [==============================] - 8s 15ms/step - loss: 0.2410 - val_loss: 0.3334\n",
      "Epoch 8/20\n",
      "500/500 [==============================] - 8s 15ms/step - loss: 0.2336 - val_loss: 0.3110\n",
      "Epoch 9/20\n",
      "500/500 [==============================] - 8s 15ms/step - loss: 0.2306 - val_loss: 0.3146\n",
      "Epoch 10/20\n",
      "500/500 [==============================] - 8s 15ms/step - loss: 0.2258 - val_loss: 0.3442\n",
      "Epoch 11/20\n",
      "500/500 [==============================] - 8s 15ms/step - loss: 0.2212 - val_loss: 0.3533\n",
      "Epoch 12/20\n",
      "500/500 [==============================] - 8s 15ms/step - loss: 0.2191 - val_loss: 0.3176\n",
      "Epoch 13/20\n",
      "500/500 [==============================] - 8s 15ms/step - loss: 0.2145 - val_loss: 0.3243\n",
      "Epoch 14/20\n",
      "500/500 [==============================] - 8s 15ms/step - loss: 0.2134 - val_loss: 0.3315\n",
      "Epoch 15/20\n",
      "500/500 [==============================] - 8s 15ms/step - loss: 0.2130 - val_loss: 0.3299\n",
      "Epoch 16/20\n",
      "500/500 [==============================] - 8s 15ms/step - loss: 0.2099 - val_loss: 0.3296\n",
      "Epoch 17/20\n",
      "500/500 [==============================] - 8s 15ms/step - loss: 0.2077 - val_loss: 0.3362\n",
      "Epoch 18/20\n",
      "500/500 [==============================] - 8s 15ms/step - loss: 0.2068 - val_loss: 0.3299\n",
      "Epoch 19/20\n",
      "500/500 [==============================] - 8s 15ms/step - loss: 0.2061 - val_loss: 0.3290\n",
      "Epoch 20/20\n",
      "500/500 [==============================] - 8s 15ms/step - loss: 0.2037 - val_loss: 0.3357\n"
     ]
    }
   ],
   "source": [
    "from keras.models import Sequential\n",
    "from keras import layers\n",
    "from keras.optimizers import RMSprop\n",
    "\n",
    "model = Sequential()\n",
    "model.add(layers.Flatten(input_shape=(lookback // step, float_data.shape[-1])))\n",
    "model.add(layers.Dense(32, activation='relu'))\n",
    "model.add(layers.Dense(1))\n",
    "\n",
    "model.compile(optimizer=RMSprop(), loss='mae')\n",
    "history = model.fit_generator(train_gen,\n",
    "                              steps_per_epoch=500,\n",
    "                              epochs=20,\n",
    "                              validation_data=val_gen,\n",
    "                              validation_steps=val_steps)"
   ]
  },
  {
   "cell_type": "code",
   "execution_count": 24,
   "metadata": {},
   "outputs": [
    {
     "data": {
      "image/png": "[encoded data removed]",
      "text/plain": [
       "<matplotlib.figure.Figure at 0x7fddc0a36048>"
      ]
     },
     "metadata": {},
     "output_type": "display_data"
    }
   ],
   "source": [
    "loss = history.history['loss']\n",
    "val_loss = history.history['val_loss']\n",
    "\n",
    "epochs = range(len(loss))\n",
    "\n",
    "plt.figure()\n",
    "\n",
    "plt.plot(epochs, loss, 'bo', label='Training loss')\n",
    "plt.plot(epochs, val_loss, 'b', label='Validation loss')\n",
    "plt.title('Training and validation loss')\n",
    "plt.legend()\n",
    "\n",
    "plt.show()"
   ]
  },
  {
   "cell_type": "markdown",
   "metadata": {},
   "source": [
    "A first recurrent baseline."
   ]
  },
  {
   "cell_type": "code",
   "execution_count": 25,
   "metadata": {},
   "outputs": [
    {
     "name": "stdout",
     "output_type": "stream",
     "text": [
      "Epoch 1/20\n",
      "500/500 [==============================] - 138s 275ms/step - loss: 0.3011 - val_loss: 0.2680\n",
      "Epoch 2/20\n",
      "500/500 [==============================] - 136s 271ms/step - loss: 0.2850 - val_loss: 0.2787\n",
      "Epoch 3/20\n",
      "500/500 [==============================] - 135s 270ms/step - loss: 0.2800 - val_loss: 0.2647\n",
      "Epoch 4/20\n",
      "500/500 [==============================] - 135s 270ms/step - loss: 0.2735 - val_loss: 0.2690\n",
      "Epoch 5/20\n",
      "500/500 [==============================] - 135s 271ms/step - loss: 0.2679 - val_loss: 0.2610\n",
      "Epoch 6/20\n",
      "500/500 [==============================] - 137s 274ms/step - loss: 0.2637 - val_loss: 0.2587\n",
      "Epoch 7/20\n",
      "500/500 [==============================] - 135s 270ms/step - loss: 0.2595 - val_loss: 0.2612\n",
      "Epoch 8/20\n",
      "500/500 [==============================] - 138s 275ms/step - loss: 0.2534 - val_loss: 0.2629\n",
      "Epoch 9/20\n",
      "500/500 [==============================] - 135s 271ms/step - loss: 0.2487 - val_loss: 0.2637\n",
      "Epoch 10/20\n",
      "500/500 [==============================] - 135s 271ms/step - loss: 0.2465 - val_loss: 0.2695\n",
      "Epoch 11/20\n",
      "500/500 [==============================] - 134s 269ms/step - loss: 0.2430 - val_loss: 0.2686\n",
      "Epoch 12/20\n",
      "500/500 [==============================] - 135s 269ms/step - loss: 0.2374 - val_loss: 0.2677\n",
      "Epoch 13/20\n",
      "500/500 [==============================] - 136s 272ms/step - loss: 0.2356 - val_loss: 0.2736\n",
      "Epoch 14/20\n",
      "500/500 [==============================] - 134s 268ms/step - loss: 0.2322 - val_loss: 0.2757\n",
      "Epoch 15/20\n",
      "500/500 [==============================] - 134s 269ms/step - loss: 0.2273 - val_loss: 0.2759\n",
      "Epoch 16/20\n",
      "500/500 [==============================] - 134s 269ms/step - loss: 0.2260 - val_loss: 0.2821\n",
      "Epoch 17/20\n",
      "500/500 [==============================] - 135s 270ms/step - loss: 0.2203 - val_loss: 0.2853\n",
      "Epoch 18/20\n",
      "500/500 [==============================] - 135s 270ms/step - loss: 0.2187 - val_loss: 0.2864\n",
      "Epoch 19/20\n",
      "500/500 [==============================] - 136s 272ms/step - loss: 0.2152 - val_loss: 0.2875\n",
      "Epoch 20/20\n",
      "500/500 [==============================] - 135s 270ms/step - loss: 0.2133 - val_loss: 0.2936\n"
     ]
    }
   ],
   "source": [
    "from keras.models import Sequential\n",
    "from keras import layers\n",
    "from keras.optimizers import RMSprop\n",
    "\n",
    "model = Sequential()\n",
    "model.add(layers.GRU(32, input_shape=(None, float_data.shape[-1])))\n",
    "model.add(layers.Dense(1))\n",
    "\n",
    "model.compile(optimizer=RMSprop(), loss='mae')\n",
    "history = model.fit_generator(train_gen,\n",
    "                              steps_per_epoch=500,\n",
    "                              epochs=20,\n",
    "                              validation_data=val_gen,\n",
    "                              validation_steps=val_steps)"
   ]
  },
  {
   "cell_type": "code",
   "execution_count": 26,
   "metadata": {},
   "outputs": [
    {
     "data": {
      "image/png": "[encoded data removed]",
      "text/plain": [
       "<matplotlib.figure.Figure at 0x7fddc0aa1c50>"
      ]
     },
     "metadata": {},
     "output_type": "display_data"
    }
   ],
   "source": [
    "loss = history.history['loss']\n",
    "val_loss = history.history['val_loss']\n",
    "\n",
    "epochs = range(len(loss))\n",
    "\n",
    "plt.figure()\n",
    "\n",
    "plt.plot(epochs, loss, 'bo', label='Training loss')\n",
    "plt.plot(epochs, val_loss, 'b', label='Validation loss')\n",
    "plt.title('Training and validation loss')\n",
    "plt.legend()\n",
    "\n",
    "plt.show()"
   ]
  },
  {
   "cell_type": "markdown",
   "metadata": {},
   "source": [
    "Using recurrent dropout to fight overfitting."
   ]
  },
  {
   "cell_type": "code",
   "execution_count": 27,
   "metadata": {},
   "outputs": [
    {
     "name": "stdout",
     "output_type": "stream",
     "text": [
      "Epoch 1/40\n",
      "500/500 [==============================] - 157s 315ms/step - loss: 0.3347 - val_loss: 0.2777\n",
      "Epoch 2/40\n",
      "500/500 [==============================] - 157s 315ms/step - loss: 0.3163 - val_loss: 0.2762\n",
      "Epoch 3/40\n",
      "500/500 [==============================] - 158s 316ms/step - loss: 0.3089 - val_loss: 0.2735\n",
      "Epoch 4/40\n",
      "500/500 [==============================] - 159s 317ms/step - loss: 0.3033 - val_loss: 0.2663\n",
      "Epoch 5/40\n",
      "500/500 [==============================] - 159s 317ms/step - loss: 0.3002 - val_loss: 0.2715\n",
      "Epoch 6/40\n",
      "500/500 [==============================] - 159s 318ms/step - loss: 0.2972 - val_loss: 0.2686\n",
      "Epoch 7/40\n",
      "500/500 [==============================] - 158s 316ms/step - loss: 0.2938 - val_loss: 0.2731\n",
      "Epoch 8/40\n",
      "500/500 [==============================] - 157s 315ms/step - loss: 0.2936 - val_loss: 0.2728\n",
      "Epoch 9/40\n",
      "500/500 [==============================] - 156s 313ms/step - loss: 0.2934 - val_loss: 0.2704\n",
      "Epoch 10/40\n",
      "500/500 [==============================] - 156s 313ms/step - loss: 0.2914 - val_loss: 0.2667\n",
      "Epoch 11/40\n",
      "500/500 [==============================] - 156s 313ms/step - loss: 0.2910 - val_loss: 0.2665\n",
      "Epoch 12/40\n",
      "500/500 [==============================] - 156s 313ms/step - loss: 0.2888 - val_loss: 0.2670\n",
      "Epoch 13/40\n",
      "500/500 [==============================] - 156s 313ms/step - loss: 0.2883 - val_loss: 0.2673\n",
      "Epoch 14/40\n",
      "500/500 [==============================] - 157s 315ms/step - loss: 0.2875 - val_loss: 0.2637\n",
      "Epoch 15/40\n",
      "500/500 [==============================] - 156s 313ms/step - loss: 0.2874 - val_loss: 0.2654\n",
      "Epoch 16/40\n",
      "500/500 [==============================] - 156s 312ms/step - loss: 0.2849 - val_loss: 0.2657\n",
      "Epoch 17/40\n",
      "500/500 [==============================] - 156s 313ms/step - loss: 0.2842 - val_loss: 0.2632\n",
      "Epoch 18/40\n",
      "500/500 [==============================] - 157s 314ms/step - loss: 0.2836 - val_loss: 0.2636\n",
      "Epoch 19/40\n",
      "500/500 [==============================] - 156s 313ms/step - loss: 0.2838 - val_loss: 0.2681\n",
      "Epoch 20/40\n",
      "500/500 [==============================] - 156s 313ms/step - loss: 0.2825 - val_loss: 0.2686\n",
      "Epoch 21/40\n",
      "500/500 [==============================] - 156s 313ms/step - loss: 0.2807 - val_loss: 0.2637\n",
      "Epoch 22/40\n",
      "500/500 [==============================] - 156s 313ms/step - loss: 0.2810 - val_loss: 0.2625\n",
      "Epoch 23/40\n",
      "500/500 [==============================] - 156s 313ms/step - loss: 0.2807 - val_loss: 0.2641\n",
      "Epoch 24/40\n",
      "500/500 [==============================] - 157s 314ms/step - loss: 0.2782 - val_loss: 0.2653\n",
      "Epoch 25/40\n",
      "500/500 [==============================] - 156s 312ms/step - loss: 0.2783 - val_loss: 0.2671\n",
      "Epoch 26/40\n",
      "500/500 [==============================] - 156s 313ms/step - loss: 0.2789 - val_loss: 0.2698\n",
      "Epoch 27/40\n",
      "500/500 [==============================] - 156s 313ms/step - loss: 0.2782 - val_loss: 0.2753\n",
      "Epoch 28/40\n",
      "500/500 [==============================] - 156s 313ms/step - loss: 0.2757 - val_loss: 0.2647\n",
      "Epoch 29/40\n",
      "500/500 [==============================] - 157s 314ms/step - loss: 0.2775 - val_loss: 0.2634\n",
      "Epoch 30/40\n",
      "500/500 [==============================] - 156s 313ms/step - loss: 0.2769 - val_loss: 0.2654\n",
      "Epoch 31/40\n",
      "500/500 [==============================] - 157s 315ms/step - loss: 0.2743 - val_loss: 0.2643\n",
      "Epoch 32/40\n",
      "500/500 [==============================] - 156s 313ms/step - loss: 0.2739 - val_loss: 0.2716\n",
      "Epoch 33/40\n",
      "500/500 [==============================] - 156s 313ms/step - loss: 0.2732 - val_loss: 0.2620\n",
      "Epoch 34/40\n",
      "500/500 [==============================] - 156s 312ms/step - loss: 0.2740 - val_loss: 0.2634\n",
      "Epoch 35/40\n",
      "500/500 [==============================] - 156s 313ms/step - loss: 0.2736 - val_loss: 0.2623\n",
      "Epoch 36/40\n",
      "500/500 [==============================] - 157s 313ms/step - loss: 0.2720 - val_loss: 0.2619\n",
      "Epoch 37/40\n",
      "500/500 [==============================] - 156s 313ms/step - loss: 0.2707 - val_loss: 0.2622\n",
      "Epoch 38/40\n",
      "500/500 [==============================] - 156s 313ms/step - loss: 0.2716 - val_loss: 0.2684\n",
      "Epoch 39/40\n",
      "500/500 [==============================] - 156s 313ms/step - loss: 0.2701 - val_loss: 0.2686\n",
      "Epoch 40/40\n",
      "500/500 [==============================] - 157s 313ms/step - loss: 0.2707 - val_loss: 0.2638\n"
     ]
    }
   ],
   "source": [
    "from keras.models import Sequential\n",
    "from keras import layers\n",
    "from keras.optimizers import RMSprop\n",
    "\n",
    "model = Sequential()\n",
    "model.add(layers.GRU(32,\n",
    "                     dropout=0.2,\n",
    "                     recurrent_dropout=0.2,\n",
    "                     input_shape=(None, float_data.shape[-1])))\n",
    "model.add(layers.Dense(1))\n",
    "\n",
    "model.compile(optimizer=RMSprop(), loss='mae')\n",
    "history = model.fit_generator(train_gen,\n",
    "                              steps_per_epoch=500,\n",
    "                              epochs=40,\n",
    "                              validation_data=val_gen,\n",
    "                              validation_steps=val_steps)"
   ]
  },
  {
   "cell_type": "code",
   "execution_count": 28,
   "metadata": {},
   "outputs": [
    {
     "data": {
      "image/png": "[encoded data removed]",
      "text/plain": [
       "<matplotlib.figure.Figure at 0x7fddc0a8d208>"
      ]
     },
     "metadata": {},
     "output_type": "display_data"
    }
   ],
   "source": [
    "loss = history.history['loss']\n",
    "val_loss = history.history['val_loss']\n",
    "\n",
    "epochs = range(len(loss))\n",
    "\n",
    "plt.figure()\n",
    "\n",
    "plt.plot(epochs, loss, 'bo', label='Training loss')\n",
    "plt.plot(epochs, val_loss, 'b', label='Validation loss')\n",
    "plt.title('Training and validation loss')\n",
    "plt.legend()\n",
    "\n",
    "plt.show()"
   ]
  },
  {
   "cell_type": "markdown",
   "metadata": {},
   "source": [
    "Stacking recurrent layers."
   ]
  },
  {
   "cell_type": "code",
   "execution_count": 29,
   "metadata": {},
   "outputs": [
    {
     "name": "stdout",
     "output_type": "stream",
     "text": [
      "Epoch 1/40\n",
      "500/500 [==============================] - 343s 685ms/step - loss: 0.3356 - val_loss: 0.2802\n",
      "Epoch 2/40\n",
      "500/500 [==============================] - 342s 684ms/step - loss: 0.3128 - val_loss: 0.2754\n",
      "Epoch 3/40\n",
      "500/500 [==============================] - 342s 684ms/step - loss: 0.3089 - val_loss: 0.2740\n",
      "Epoch 4/40\n",
      "500/500 [==============================] - 343s 685ms/step - loss: 0.3042 - val_loss: 0.2746\n",
      "Epoch 5/40\n",
      "500/500 [==============================] - 343s 686ms/step - loss: 0.3003 - val_loss: 0.2670\n",
      "Epoch 6/40\n",
      "500/500 [==============================] - 342s 684ms/step - loss: 0.2947 - val_loss: 0.2642\n",
      "Epoch 7/40\n",
      "500/500 [==============================] - 342s 684ms/step - loss: 0.2926 - val_loss: 0.2660\n",
      "Epoch 8/40\n",
      "500/500 [==============================] - 342s 684ms/step - loss: 0.2884 - val_loss: 0.2670\n",
      "Epoch 9/40\n",
      "500/500 [==============================] - 343s 685ms/step - loss: 0.2872 - val_loss: 0.2636\n",
      "Epoch 10/40\n",
      "500/500 [==============================] - 342s 685ms/step - loss: 0.2840 - val_loss: 0.2682\n",
      "Epoch 11/40\n",
      "500/500 [==============================] - 342s 684ms/step - loss: 0.2832 - val_loss: 0.2768\n",
      "Epoch 12/40\n",
      "500/500 [==============================] - 342s 684ms/step - loss: 0.2820 - val_loss: 0.2660\n",
      "Epoch 13/40\n",
      "500/500 [==============================] - 342s 684ms/step - loss: 0.2791 - val_loss: 0.2655\n",
      "Epoch 14/40\n",
      "500/500 [==============================] - 342s 684ms/step - loss: 0.2763 - val_loss: 0.2755\n",
      "Epoch 15/40\n",
      "500/500 [==============================] - 342s 684ms/step - loss: 0.2759 - val_loss: 0.2667\n",
      "Epoch 16/40\n",
      "500/500 [==============================] - 343s 685ms/step - loss: 0.2744 - val_loss: 0.2669\n",
      "Epoch 17/40\n",
      "500/500 [==============================] - 342s 684ms/step - loss: 0.2734 - val_loss: 0.2684\n",
      "Epoch 18/40\n",
      "500/500 [==============================] - 342s 684ms/step - loss: 0.2723 - val_loss: 0.2629\n",
      "Epoch 19/40\n",
      "500/500 [==============================] - 342s 684ms/step - loss: 0.2708 - val_loss: 0.2744\n",
      "Epoch 20/40\n",
      "500/500 [==============================] - 342s 684ms/step - loss: 0.2698 - val_loss: 0.2701\n",
      "Epoch 21/40\n",
      "500/500 [==============================] - 342s 684ms/step - loss: 0.2691 - val_loss: 0.2730\n",
      "Epoch 22/40\n",
      "500/500 [==============================] - 342s 684ms/step - loss: 0.2665 - val_loss: 0.2751\n",
      "Epoch 23/40\n",
      "500/500 [==============================] - 342s 684ms/step - loss: 0.2664 - val_loss: 0.2755\n",
      "Epoch 24/40\n",
      "500/500 [==============================] - 342s 684ms/step - loss: 0.2648 - val_loss: 0.2718\n",
      "Epoch 25/40\n",
      "500/500 [==============================] - 342s 684ms/step - loss: 0.2638 - val_loss: 0.2737\n",
      "Epoch 26/40\n",
      "500/500 [==============================] - 342s 684ms/step - loss: 0.2632 - val_loss: 0.2750\n",
      "Epoch 27/40\n",
      "500/500 [==============================] - 343s 685ms/step - loss: 0.2646 - val_loss: 0.2735\n",
      "Epoch 28/40\n",
      "500/500 [==============================] - 342s 684ms/step - loss: 0.2631 - val_loss: 0.2859\n",
      "Epoch 29/40\n",
      "500/500 [==============================] - 343s 685ms/step - loss: 0.2617 - val_loss: 0.2707\n",
      "Epoch 30/40\n",
      "500/500 [==============================] - 342s 684ms/step - loss: 0.2606 - val_loss: 0.2725\n",
      "Epoch 31/40\n",
      "500/500 [==============================] - 342s 684ms/step - loss: 0.2614 - val_loss: 0.2746\n",
      "Epoch 32/40\n",
      "500/500 [==============================] - 342s 684ms/step - loss: 0.2603 - val_loss: 0.2775\n",
      "Epoch 33/40\n",
      "500/500 [==============================] - 342s 684ms/step - loss: 0.2585 - val_loss: 0.2755\n",
      "Epoch 34/40\n",
      "500/500 [==============================] - 342s 684ms/step - loss: 0.2587 - val_loss: 0.2728\n",
      "Epoch 35/40\n",
      "500/500 [==============================] - 342s 685ms/step - loss: 0.2568 - val_loss: 0.2725\n",
      "Epoch 36/40\n",
      "500/500 [==============================] - 342s 684ms/step - loss: 0.2575 - val_loss: 0.2740\n",
      "Epoch 37/40\n",
      "500/500 [==============================] - 342s 684ms/step - loss: 0.2576 - val_loss: 0.2756\n",
      "Epoch 38/40\n",
      "500/500 [==============================] - 342s 684ms/step - loss: 0.2561 - val_loss: 0.2710\n",
      "Epoch 39/40\n",
      "500/500 [==============================] - 342s 684ms/step - loss: 0.2545 - val_loss: 0.2747\n",
      "Epoch 40/40\n",
      "500/500 [==============================] - 342s 684ms/step - loss: 0.2560 - val_loss: 0.2769\n"
     ]
    }
   ],
   "source": [
    "from keras.models import Sequential\n",
    "from keras import layers\n",
    "from keras.optimizers import RMSprop\n",
    "\n",
    "model = Sequential()\n",
    "model.add(layers.GRU(32,\n",
    "                     dropout=0.1,\n",
    "                     recurrent_dropout=0.5,\n",
    "                     return_sequences=True,\n",
    "                     input_shape=(None, float_data.shape[-1])))\n",
    "model.add(layers.GRU(64, activation='relu',\n",
    "                     dropout=0.1, \n",
    "                     recurrent_dropout=0.5))\n",
    "model.add(layers.Dense(1))\n",
    "\n",
    "model.compile(optimizer=RMSprop(), loss='mae')\n",
    "history = model.fit_generator(train_gen,\n",
    "                              steps_per_epoch=500,\n",
    "                              epochs=40,\n",
    "                              validation_data=val_gen,\n",
    "                              validation_steps=val_steps)"
   ]
  },
  {
   "cell_type": "code",
   "execution_count": 30,
   "metadata": {},
   "outputs": [
    {
     "data": {
      "image/png": "[encoded data removed]",
      "text/plain": [
       "<matplotlib.figure.Figure at 0x7fddb09ba668>"
      ]
     },
     "metadata": {},
     "output_type": "display_data"
    }
   ],
   "source": [
    "loss = history.history['loss']\n",
    "val_loss = history.history['val_loss']\n",
    "\n",
    "epochs = range(len(loss))\n",
    "\n",
    "plt.figure()\n",
    "\n",
    "plt.plot(epochs, loss, 'bo', label='Training loss')\n",
    "plt.plot(epochs, val_loss, 'b', label='Validation loss')\n",
    "plt.title('Training and validation loss')\n",
    "plt.legend()\n",
    "\n",
    "plt.show()"
   ]
  },
  {
   "cell_type": "markdown",
   "metadata": {},
   "source": [
    "Using bidirectional RNNs."
   ]
  },
  {
   "cell_type": "code",
   "execution_count": 31,
   "metadata": {},
   "outputs": [],
   "source": [
    "def reverse_order_generator(data, lookback, delay, min_index, max_index,\n",
    "                            shuffle=False, batch_size=128, step=6):\n",
    "    if max_index is None:\n",
    "        max_index = len(data) - delay - 1\n",
    "    i = min_index + lookback\n",
    "    while 1:\n",
    "        if shuffle:\n",
    "            rows = np.random.randint(\n",
    "                min_index + lookback, max_index, size=batch_size)\n",
    "        else:\n",
    "            if i + batch_size >= max_index:\n",
    "                i = min_index + lookback\n",
    "            rows = np.arange(i, min(i + batch_size, max_index))\n",
    "            i += len(rows)\n",
    "\n",
    "        samples = np.zeros((len(rows),\n",
    "                           lookback // step,\n",
    "                           data.shape[-1]))\n",
    "        targets = np.zeros((len(rows),))\n",
    "        for j, row in enumerate(rows):\n",
    "            indices = range(rows[j] - lookback, rows[j], step)\n",
    "            samples[j] = data[indices]\n",
    "            targets[j] = data[rows[j] + delay][1]\n",
    "        yield samples[:, ::-1, :], targets\n",
    "        \n",
    "train_gen_reverse = reverse_order_generator(\n",
    "    float_data,\n",
    "    lookback=lookback,\n",
    "    delay=delay,\n",
    "    min_index=0,\n",
    "    max_index=200000,\n",
    "    shuffle=True,\n",
    "    step=step, \n",
    "    batch_size=batch_size)\n",
    "    \n",
    "val_gen_reverse = reverse_order_generator(\n",
    "    float_data,\n",
    "    lookback=lookback,\n",
    "    delay=delay,\n",
    "    min_index=200001,\n",
    "    max_index=300000,\n",
    "    step=step,\n",
    "    batch_size=batch_size)"
   ]
  },
  {
   "cell_type": "code",
   "execution_count": 32,
   "metadata": {},
   "outputs": [
    {
     "name": "stdout",
     "output_type": "stream",
     "text": [
      "Epoch 1/20\n",
      "500/500 [==============================] - 136s 272ms/step - loss: 0.4715 - val_loss: 0.4876\n",
      "Epoch 2/20\n",
      "500/500 [==============================] - 136s 271ms/step - loss: 0.4419 - val_loss: 0.4772\n",
      "Epoch 3/20\n",
      "500/500 [==============================] - 136s 271ms/step - loss: 0.4033 - val_loss: 0.4674\n",
      "Epoch 4/20\n",
      "500/500 [==============================] - 136s 271ms/step - loss: 0.3598 - val_loss: 0.4515\n",
      "Epoch 5/20\n",
      "500/500 [==============================] - 136s 271ms/step - loss: 0.3314 - val_loss: 0.4696\n",
      "Epoch 6/20\n",
      "500/500 [==============================] - 136s 272ms/step - loss: 0.3160 - val_loss: 0.4553\n",
      "Epoch 7/20\n",
      "500/500 [==============================] - 136s 271ms/step - loss: 0.3042 - val_loss: 0.4593\n",
      "Epoch 8/20\n",
      "500/500 [==============================] - 136s 272ms/step - loss: 0.2926 - val_loss: 0.4759\n",
      "Epoch 9/20\n",
      "500/500 [==============================] - 136s 272ms/step - loss: 0.2848 - val_loss: 0.4676\n",
      "Epoch 10/20\n",
      "500/500 [==============================] - 136s 272ms/step - loss: 0.2783 - val_loss: 0.4774\n",
      "Epoch 11/20\n",
      "500/500 [==============================] - 136s 272ms/step - loss: 0.2725 - val_loss: 0.4874\n",
      "Epoch 12/20\n",
      "500/500 [==============================] - 136s 271ms/step - loss: 0.2662 - val_loss: 0.4849\n",
      "Epoch 13/20\n",
      "500/500 [==============================] - 136s 271ms/step - loss: 0.2622 - val_loss: 0.4800\n",
      "Epoch 14/20\n",
      "500/500 [==============================] - 136s 272ms/step - loss: 0.2549 - val_loss: 0.4741\n",
      "Epoch 15/20\n",
      "500/500 [==============================] - 136s 271ms/step - loss: 0.2510 - val_loss: 0.4907\n",
      "Epoch 16/20\n",
      "500/500 [==============================] - 136s 272ms/step - loss: 0.2476 - val_loss: 0.5036\n",
      "Epoch 17/20\n",
      "500/500 [==============================] - 136s 271ms/step - loss: 0.2416 - val_loss: 0.4958\n",
      "Epoch 18/20\n",
      "500/500 [==============================] - 136s 272ms/step - loss: 0.2406 - val_loss: 0.4924\n",
      "Epoch 19/20\n",
      "500/500 [==============================] - 136s 271ms/step - loss: 0.2374 - val_loss: 0.4980\n",
      "Epoch 20/20\n",
      "500/500 [==============================] - 136s 271ms/step - loss: 0.2341 - val_loss: 0.5126\n"
     ]
    }
   ],
   "source": [
    "model = Sequential()\n",
    "model.add(layers.GRU(32, input_shape=(None, float_data.shape[-1])))\n",
    "model.add(layers.Dense(1))\n",
    "\n",
    "model.compile(optimizer=RMSprop(), loss='mae')\n",
    "history = model.fit_generator(train_gen_reverse,\n",
    "                              steps_per_epoch=500,\n",
    "                              epochs=20,\n",
    "                              validation_data=val_gen_reverse,\n",
    "                              validation_steps=val_steps)"
   ]
  },
  {
   "cell_type": "code",
   "execution_count": null,
   "metadata": {},
   "outputs": [],
   "source": [
    "loss = history.history['loss']\n",
    "val_loss = history.history['val_loss']\n",
    "\n",
    "epochs = range(len(loss))\n",
    "\n",
    "plt.figure()\n",
    "\n",
    "plt.plot(epochs, loss, 'bo', label='Training loss')\n",
    "plt.plot(epochs, val_loss, 'b', label='Validation loss')\n",
    "plt.title('Training and validation loss')\n",
    "plt.legend()\n",
    "\n",
    "plt.show()"
   ]
  },
  {
   "cell_type": "markdown",
   "metadata": {},
   "source": [
    "Revese ordering did not work well; but this does not mean the ordering is useless.\n",
    "\n",
    "Let's check IMDB case."
   ]
  },
  {
   "cell_type": "code",
   "execution_count": 33,
   "metadata": {},
   "outputs": [
    {
     "name": "stdout",
     "output_type": "stream",
     "text": [
      "Train on 20000 samples, validate on 5000 samples\n",
      "Epoch 1/10\n",
      "20000/20000 [==============================] - 95s 5ms/step - loss: 0.4910 - acc: 0.7676 - val_loss: 0.3885 - val_acc: 0.8582\n",
      "Epoch 2/10\n",
      "20000/20000 [==============================] - 95s 5ms/step - loss: 0.3115 - acc: 0.8790 - val_loss: 0.3364 - val_acc: 0.8668\n",
      "Epoch 3/10\n",
      "20000/20000 [==============================] - 95s 5ms/step - loss: 0.2529 - acc: 0.9055 - val_loss: 0.3808 - val_acc: 0.8330\n",
      "Epoch 4/10\n",
      "20000/20000 [==============================] - 94s 5ms/step - loss: 0.2247 - acc: 0.9192 - val_loss: 0.3856 - val_acc: 0.8664\n",
      "Epoch 5/10\n",
      "20000/20000 [==============================] - 94s 5ms/step - loss: 0.1915 - acc: 0.9332 - val_loss: 0.5108 - val_acc: 0.8228\n",
      "Epoch 6/10\n",
      "20000/20000 [==============================] - 94s 5ms/step - loss: 0.1695 - acc: 0.9394 - val_loss: 0.3518 - val_acc: 0.8614\n",
      "Epoch 7/10\n",
      "20000/20000 [==============================] - 94s 5ms/step - loss: 0.1575 - acc: 0.9474 - val_loss: 0.4825 - val_acc: 0.8682\n",
      "Epoch 8/10\n",
      "20000/20000 [==============================] - 94s 5ms/step - loss: 0.1449 - acc: 0.9526 - val_loss: 0.4694 - val_acc: 0.8228\n",
      "Epoch 9/10\n",
      "20000/20000 [==============================] - 94s 5ms/step - loss: 0.1336 - acc: 0.9559 - val_loss: 0.3758 - val_acc: 0.8436\n",
      "Epoch 10/10\n",
      "20000/20000 [==============================] - 94s 5ms/step - loss: 0.1187 - acc: 0.9600 - val_loss: 0.4768 - val_acc: 0.8762\n"
     ]
    }
   ],
   "source": [
    "from keras.datasets import imdb\n",
    "from keras.preprocessing import sequence\n",
    "from keras import layers\n",
    "from keras.models import Sequential\n",
    "\n",
    "max_features = 10000\n",
    "maxlen = 500\n",
    "\n",
    "(x_train, y_train), (x_test, y_test) = imdb.load_data(num_words=max_features)\n",
    "\n",
    "# Reverse sequences\n",
    "x_train = [x[::-1] for x in x_train]\n",
    "x_test = [x[::-1] for x in x_test]\n",
    "\n",
    "# Pad sequences\n",
    "x_train = sequence.pad_sequences(x_train, maxlen=maxlen)\n",
    "x_test = sequence.pad_sequences(x_test, maxlen=maxlen)\n",
    "\n",
    "model = Sequential()\n",
    "model.add(layers.Embedding(max_features, 128))\n",
    "model.add(layers.LSTM(32))\n",
    "model.add(layers.Dense(1, activation='sigmoid'))\n",
    "\n",
    "model.compile(optimizer='rmsprop',\n",
    "              loss='binary_crossentropy',\n",
    "              metrics=['acc'])\n",
    "\n",
    "history = model.fit(x_train, y_train,\n",
    "                    epochs=10,\n",
    "                    batch_size=128,\n",
    "                    validation_split=0.2)"
   ]
  },
  {
   "cell_type": "markdown",
   "metadata": {},
   "source": [
    "Bidirectional LSTM."
   ]
  },
  {
   "cell_type": "code",
   "execution_count": 34,
   "metadata": {},
   "outputs": [],
   "source": [
    "from keras import backend as K\n",
    "K.clear_session()"
   ]
  },
  {
   "cell_type": "code",
   "execution_count": 35,
   "metadata": {},
   "outputs": [
    {
     "name": "stdout",
     "output_type": "stream",
     "text": [
      "Train on 20000 samples, validate on 5000 samples\n",
      "Epoch 1/10\n",
      "20000/20000 [==============================] - 166s 8ms/step - loss: 0.5556 - acc: 0.7192 - val_loss: 0.5084 - val_acc: 0.7482\n",
      "Epoch 2/10\n",
      "20000/20000 [==============================] - 166s 8ms/step - loss: 0.3285 - acc: 0.8737 - val_loss: 0.3308 - val_acc: 0.8866\n",
      "Epoch 3/10\n",
      "20000/20000 [==============================] - 166s 8ms/step - loss: 0.2659 - acc: 0.9037 - val_loss: 0.4739 - val_acc: 0.8612\n",
      "Epoch 4/10\n",
      "20000/20000 [==============================] - 166s 8ms/step - loss: 0.2293 - acc: 0.9187 - val_loss: 0.3520 - val_acc: 0.8716\n",
      "Epoch 5/10\n",
      "20000/20000 [==============================] - 166s 8ms/step - loss: 0.2037 - acc: 0.9273 - val_loss: 0.3261 - val_acc: 0.8816\n",
      "Epoch 6/10\n",
      "20000/20000 [==============================] - 166s 8ms/step - loss: 0.1820 - acc: 0.9358 - val_loss: 0.4376 - val_acc: 0.8540\n",
      "Epoch 7/10\n",
      "20000/20000 [==============================] - 166s 8ms/step - loss: 0.1694 - acc: 0.9414 - val_loss: 0.3751 - val_acc: 0.8806\n",
      "Epoch 8/10\n",
      "20000/20000 [==============================] - 167s 8ms/step - loss: 0.1474 - acc: 0.9504 - val_loss: 0.5341 - val_acc: 0.7978\n",
      "Epoch 9/10\n",
      "20000/20000 [==============================] - 166s 8ms/step - loss: 0.1413 - acc: 0.9506 - val_loss: 0.4348 - val_acc: 0.8334\n",
      "Epoch 10/10\n",
      "20000/20000 [==============================] - 166s 8ms/step - loss: 0.1309 - acc: 0.9572 - val_loss: 0.3759 - val_acc: 0.8712\n"
     ]
    }
   ],
   "source": [
    "model = Sequential()\n",
    "model.add(layers.Embedding(max_features, 32))\n",
    "model.add(layers.Bidirectional(layers.LSTM(32)))\n",
    "model.add(layers.Dense(1, activation='sigmoid'))\n",
    "\n",
    "model.compile(optimizer='rmsprop', loss='binary_crossentropy', metrics=['acc'])\n",
    "history = model.fit(x_train, y_train, epochs=10, batch_size=128, validation_split=0.2)"
   ]
  },
  {
   "cell_type": "markdown",
   "metadata": {},
   "source": [
    "Bidirectional GRU for the climate data."
   ]
  },
  {
   "cell_type": "code",
   "execution_count": 36,
   "metadata": {},
   "outputs": [
    {
     "name": "stdout",
     "output_type": "stream",
     "text": [
      "Epoch 1/40\n",
      "500/500 [==============================] - 264s 528ms/step - loss: 0.2930 - val_loss: 0.2739\n",
      "Epoch 2/40\n",
      "500/500 [==============================] - 264s 528ms/step - loss: 0.2743 - val_loss: 0.2730\n",
      "Epoch 3/40\n",
      "500/500 [==============================] - 264s 528ms/step - loss: 0.2667 - val_loss: 0.2699\n",
      "Epoch 4/40\n",
      "500/500 [==============================] - 264s 528ms/step - loss: 0.2628 - val_loss: 0.2707\n",
      "Epoch 5/40\n",
      "500/500 [==============================] - 264s 528ms/step - loss: 0.2553 - val_loss: 0.2728\n",
      "Epoch 6/40\n",
      "500/500 [==============================] - 264s 528ms/step - loss: 0.2489 - val_loss: 0.2726\n",
      "Epoch 7/40\n",
      "500/500 [==============================] - 264s 528ms/step - loss: 0.2448 - val_loss: 0.2790\n",
      "Epoch 8/40\n",
      "500/500 [==============================] - 264s 528ms/step - loss: 0.2394 - val_loss: 0.2822\n",
      "Epoch 9/40\n",
      "500/500 [==============================] - 264s 527ms/step - loss: 0.2326 - val_loss: 0.2805\n",
      "Epoch 10/40\n",
      "500/500 [==============================] - 264s 527ms/step - loss: 0.2276 - val_loss: 0.2849\n",
      "Epoch 11/40\n",
      "500/500 [==============================] - 264s 528ms/step - loss: 0.2217 - val_loss: 0.2889\n",
      "Epoch 12/40\n",
      "500/500 [==============================] - 264s 528ms/step - loss: 0.2164 - val_loss: 0.2893\n",
      "Epoch 13/40\n",
      "500/500 [==============================] - 264s 527ms/step - loss: 0.2099 - val_loss: 0.2986\n",
      "Epoch 14/40\n",
      "500/500 [==============================] - 263s 527ms/step - loss: 0.2067 - val_loss: 0.2956\n",
      "Epoch 15/40\n",
      "500/500 [==============================] - 263s 527ms/step - loss: 0.2007 - val_loss: 0.3028\n",
      "Epoch 16/40\n",
      "500/500 [==============================] - 264s 528ms/step - loss: 0.1961 - val_loss: 0.3126\n",
      "Epoch 17/40\n",
      "500/500 [==============================] - 263s 527ms/step - loss: 0.1909 - val_loss: 0.3058\n",
      "Epoch 18/40\n",
      "500/500 [==============================] - 264s 529ms/step - loss: 0.1880 - val_loss: 0.3118\n",
      "Epoch 19/40\n",
      "500/500 [==============================] - 265s 530ms/step - loss: 0.1834 - val_loss: 0.3161\n",
      "Epoch 20/40\n",
      "500/500 [==============================] - 263s 527ms/step - loss: 0.1795 - val_loss: 0.3199\n",
      "Epoch 21/40\n",
      "500/500 [==============================] - 265s 530ms/step - loss: 0.1756 - val_loss: 0.3164\n",
      "Epoch 22/40\n",
      "500/500 [==============================] - 264s 529ms/step - loss: 0.1721 - val_loss: 0.3249\n",
      "Epoch 23/40\n",
      "500/500 [==============================] - 264s 528ms/step - loss: 0.1688 - val_loss: 0.3179\n",
      "Epoch 24/40\n",
      "500/500 [==============================] - 265s 530ms/step - loss: 0.1649 - val_loss: 0.3216\n",
      "Epoch 25/40\n",
      "500/500 [==============================] - 263s 526ms/step - loss: 0.1633 - val_loss: 0.3244\n",
      "Epoch 26/40\n",
      "500/500 [==============================] - 264s 528ms/step - loss: 0.1612 - val_loss: 0.3274\n",
      "Epoch 27/40\n",
      "500/500 [==============================] - 263s 526ms/step - loss: 0.1583 - val_loss: 0.3287\n",
      "Epoch 28/40\n",
      "500/500 [==============================] - 264s 528ms/step - loss: 0.1546 - val_loss: 0.3286\n",
      "Epoch 29/40\n",
      "500/500 [==============================] - 265s 530ms/step - loss: 0.1532 - val_loss: 0.3324\n",
      "Epoch 30/40\n",
      "500/500 [==============================] - 264s 528ms/step - loss: 0.1525 - val_loss: 0.3312\n",
      "Epoch 31/40\n",
      "500/500 [==============================] - 264s 528ms/step - loss: 0.1501 - val_loss: 0.3285\n",
      "Epoch 32/40\n",
      "500/500 [==============================] - 265s 530ms/step - loss: 0.1479 - val_loss: 0.3310\n",
      "Epoch 33/40\n",
      "500/500 [==============================] - 263s 527ms/step - loss: 0.1462 - val_loss: 0.3324\n",
      "Epoch 34/40\n",
      "500/500 [==============================] - 264s 528ms/step - loss: 0.1456 - val_loss: 0.3293\n",
      "Epoch 35/40\n",
      "500/500 [==============================] - 263s 526ms/step - loss: 0.1437 - val_loss: 0.3334\n",
      "Epoch 36/40\n",
      "500/500 [==============================] - 264s 528ms/step - loss: 0.1425 - val_loss: 0.3372\n",
      "Epoch 37/40\n",
      "500/500 [==============================] - 266s 532ms/step - loss: 0.1411 - val_loss: 0.3321\n",
      "Epoch 38/40\n",
      "500/500 [==============================] - 264s 528ms/step - loss: 0.1394 - val_loss: 0.3334\n",
      "Epoch 39/40\n",
      "500/500 [==============================] - 264s 528ms/step - loss: 0.1384 - val_loss: 0.3292\n",
      "Epoch 40/40\n",
      "500/500 [==============================] - 265s 529ms/step - loss: 0.1366 - val_loss: 0.3345\n"
     ]
    }
   ],
   "source": [
    "from keras.models import Sequential\n",
    "from keras import layers\n",
    "from keras.optimizers import RMSprop\n",
    "\n",
    "model = Sequential()\n",
    "model.add(layers.Bidirectional(\n",
    "    layers.GRU(32), input_shape=(None, float_data.shape[-1])))\n",
    "model.add(layers.Dense(1))\n",
    "\n",
    "model.compile(optimizer=RMSprop(), loss='mae')\n",
    "history = model.fit_generator(train_gen,\n",
    "                              steps_per_epoch=500,\n",
    "                              epochs=40,\n",
    "                              validation_data=val_gen,\n",
    "                              validation_steps=val_steps)"
   ]
  },
  {
   "cell_type": "code",
   "execution_count": null,
   "metadata": {},
   "outputs": [],
   "source": []
  }
 ],
 "metadata": {
  "kernelspec": {
   "display_name": "Python 3",
   "language": "python",
   "name": "python3"
  },
  "language_info": {
   "codemirror_mode": {
    "name": "ipython",
    "version": 3
   },
   "file_extension": ".py",
   "mimetype": "text/x-python",
   "name": "python",
   "nbconvert_exporter": "python",
   "pygments_lexer": "ipython3",
   "version": "3.5.2"
  }
 },
 "nbformat": 4,
 "nbformat_minor": 2
}
